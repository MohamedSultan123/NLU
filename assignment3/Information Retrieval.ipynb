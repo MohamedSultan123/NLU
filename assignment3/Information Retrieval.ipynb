{
 "cells": [
  {
   "cell_type": "code",
   "execution_count": null,
   "id": "b9940f49",
   "metadata": {},
   "outputs": [],
   "source": [
    "from sentence_transformers import SentenceTransformer\n",
    "from sklearn.metrics.pairwise import cosine_similarity\n",
    "import numpy as np"
   ]
  },
  {
   "cell_type": "code",
   "execution_count": null,
   "id": "220eeae6",
   "metadata": {},
   "outputs": [],
   "source": [
    "model = SentenceTransformer('all-MiniLM-L6-v2')"
   ]
  },
  {
   "cell_type": "code",
   "execution_count": null,
   "id": "242f61f8",
   "metadata": {},
   "outputs": [],
   "source": [
    "def load_documents(filepath):\n",
    "    with open(filepath, 'r', encoding='utf-8') as file:\n",
    "        documents = file.readlines()\n",
    "    documents = [doc.strip() for doc in documents if doc.strip()]  # إزالة الفراغات والسطور الفارغة\n",
    "    return documents"
   ]
  },
  {
   "cell_type": "code",
   "execution_count": null,
   "id": "b25da6c6",
   "metadata": {},
   "outputs": [],
   "source": [
    "def encode_documents(documents, model):\n",
    "    embeddings = model.encode(documents)\n",
    "    return embeddings"
   ]
  },
  {
   "cell_type": "code",
   "execution_count": null,
   "id": "64df3fc1",
   "metadata": {},
   "outputs": [],
   "source": [
    "def search(query, documents, doc_embeddings, model, top_k=1):\n",
    "    query_embedding = model.encode([query])\n",
    "    similarities = cosine_similarity(query_embedding, doc_embeddings)\n",
    "    top_k_idx = np.argsort(similarities[0])[::-1][:top_k]\n",
    "    results = [(documents[idx], similarities[0][idx]) for idx in top_k_idx]\n",
    "    return results"
   ]
  },
  {
   "cell_type": "code",
   "execution_count": null,
   "id": "a0379422",
   "metadata": {},
   "outputs": [],
   "source": [
    "if __name__ == \"__main__\":\n",
    "    documents = load_documents('Document.txt')\n",
    "    doc_embeddings = encode_documents(documents, model)\n",
    "\n",
    "    query = input(\"Enter your query: \")\n",
    "    results = search(query, documents, doc_embeddings, model, top_k=3)\n",
    "\n",
    "    print(\"\\nTop results:\")\n",
    "    for idx, (doc, score) in enumerate(results):\n",
    "        print(f\"{idx+1}. {doc} (Similarity: {score:.4f})\")"
   ]
  }
 ],
 "metadata": {
  "kernelspec": {
   "display_name": "Python 3",
   "language": "python",
   "name": "python3"
  },
  "language_info": {
   "codemirror_mode": {
    "name": "ipython",
    "version": 3
   },
   "file_extension": ".py",
   "mimetype": "text/x-python",
   "name": "python",
   "nbconvert_exporter": "python",
   "pygments_lexer": "ipython3",
   "version": "3.12.0"
  }
 },
 "nbformat": 4,
 "nbformat_minor": 5
}
